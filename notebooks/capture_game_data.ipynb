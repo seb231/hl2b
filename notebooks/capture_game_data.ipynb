{
 "cells": [
  {
   "cell_type": "code",
   "execution_count": 2,
   "metadata": {},
   "outputs": [],
   "source": [
    "import requests\n",
    "import re\n",
    "from bs4 import BeautifulSoup\n",
    "import numpy as np\n",
    "import pandas as pd"
   ]
  },
  {
   "cell_type": "code",
   "execution_count": 26,
   "metadata": {},
   "outputs": [
    {
     "data": {
      "text/plain": [
       "'Half-Life 2: Episode One'"
      ]
     },
     "execution_count": 26,
     "metadata": {},
     "output_type": "execute_result"
    }
   ],
   "source": [
    "hltb = requests.get('https://howlongtobeat.com/game.php?id=4250').content\n",
    "hltb_soup = BeautifulSoup(hltb, \"lxml\")\n",
    "\n",
    "def get_game_title(soup):\n",
    "    return soup.find('div', attrs = {'class': 'profile_header shadow_text'}).get_text().strip('\\n').strip(' $')\n",
    "\n",
    "get_game_title(hltb_soup)"
   ]
  },
  {
   "cell_type": "code",
   "execution_count": 4,
   "metadata": {},
   "outputs": [],
   "source": [
    "## Need to generate numbers to find all titles, including 4 and 5 digits"
   ]
  },
  {
   "cell_type": "code",
   "execution_count": 5,
   "metadata": {},
   "outputs": [],
   "source": [
    "def text_from_tag(tag):\n",
    "    return tag.get_text().strip('\\n').strip(' $')"
   ]
  },
  {
   "cell_type": "code",
   "execution_count": 12,
   "metadata": {},
   "outputs": [],
   "source": [
    "def get_average_time(times):\n",
    "    return text_from_tag(times.findAll('td')[2])\n",
    "\n",
    "def get_median_time(times):\n",
    "    return text_from_tag(times.findAll('td')[3])\n",
    "\n",
    "def get_rushed_time(times):\n",
    "    return text_from_tag(times.findAll('td')[4])\n",
    "\n",
    "def get_leisure_time(times):\n",
    "    return text_from_tag(times.findAll('td')[5])\n",
    "\n",
    "def get_poll_count(times):\n",
    "    return text_from_tag(times.findAll('td')[1])\n",
    "\n",
    "def get_play_title(times):\n",
    "    return text_from_tag(times.findAll('td')[0])\n"
   ]
  },
  {
   "cell_type": "code",
   "execution_count": 7,
   "metadata": {},
   "outputs": [
    {
     "data": {
      "text/plain": [
       "<tr>\n",
       "<td>Main Story</td>\n",
       "<td class=\"center time_100_text\">791 </td> <td>3h 55m </td>\n",
       "<td>4h </td>\n",
       "<td>2h 40m </td>\n",
       "<td>6h 58m </td>\n",
       "</tr>"
      ]
     },
     "execution_count": 7,
     "metadata": {},
     "output_type": "execute_result"
    }
   ],
   "source": [
    "def get_main_story_times(soup):\n",
    "    return soup.findAll('tr')[1]\n",
    "\n",
    "def get_main_story_extras_times(soup):\n",
    "    return soup.findAll('tr')[2]\n",
    "\n",
    "def get_completionist_times(soup):\n",
    "    return soup.findAll('tr')[3]\n",
    "\n",
    "def get_all_playstyles_times(soup):\n",
    "    return soup.findAll('tr')[4]\n",
    "\n",
    "get_main_story_times(hltb_soup)"
   ]
  },
  {
   "cell_type": "code",
   "execution_count": 44,
   "metadata": {},
   "outputs": [
    {
     "data": {
      "text/html": [
       "<div>\n",
       "<style scoped>\n",
       "    .dataframe tbody tr th:only-of-type {\n",
       "        vertical-align: middle;\n",
       "    }\n",
       "\n",
       "    .dataframe tbody tr th {\n",
       "        vertical-align: top;\n",
       "    }\n",
       "\n",
       "    .dataframe thead th {\n",
       "        text-align: right;\n",
       "    }\n",
       "</style>\n",
       "<table border=\"1\" class=\"dataframe\">\n",
       "  <thead>\n",
       "    <tr style=\"text-align: right;\">\n",
       "      <th></th>\n",
       "      <th></th>\n",
       "      <th>Polled</th>\n",
       "      <th>Average</th>\n",
       "      <th>Median</th>\n",
       "      <th>Rushed</th>\n",
       "      <th>Leisure</th>\n",
       "    </tr>\n",
       "    <tr>\n",
       "      <th>Title</th>\n",
       "      <th>Playstyle</th>\n",
       "      <th></th>\n",
       "      <th></th>\n",
       "      <th></th>\n",
       "      <th></th>\n",
       "      <th></th>\n",
       "    </tr>\n",
       "  </thead>\n",
       "  <tbody>\n",
       "    <tr>\n",
       "      <th rowspan=\"4\" valign=\"top\">Half-Life 2: Episode One</th>\n",
       "      <th>Main Story</th>\n",
       "      <td>791</td>\n",
       "      <td>3h 55m</td>\n",
       "      <td>4h</td>\n",
       "      <td>2h 40m</td>\n",
       "      <td>6h 58m</td>\n",
       "    </tr>\n",
       "    <tr>\n",
       "      <th>Main + Extras</th>\n",
       "      <td>217</td>\n",
       "      <td>4h 30m</td>\n",
       "      <td>4h</td>\n",
       "      <td>3h 07m</td>\n",
       "      <td>7h 45m</td>\n",
       "    </tr>\n",
       "    <tr>\n",
       "      <th>Completionists</th>\n",
       "      <td>185</td>\n",
       "      <td>5h 32m</td>\n",
       "      <td>5h</td>\n",
       "      <td>3h 23m</td>\n",
       "      <td>18h 38m</td>\n",
       "    </tr>\n",
       "    <tr>\n",
       "      <th>All PlayStyles</th>\n",
       "      <td>1.2K</td>\n",
       "      <td>4h 16m</td>\n",
       "      <td>4h</td>\n",
       "      <td>2h 46m</td>\n",
       "      <td>18h 04m</td>\n",
       "    </tr>\n",
       "  </tbody>\n",
       "</table>\n",
       "</div>"
      ],
      "text/plain": [
       "                                        Polled Average Median  Rushed  Leisure\n",
       "Title                    Playstyle                                            \n",
       "Half-Life 2: Episode One Main Story        791  3h 55m     4h  2h 40m   6h 58m\n",
       "                         Main + Extras     217  4h 30m     4h  3h 07m   7h 45m\n",
       "                         Completionists    185  5h 32m     5h  3h 23m  18h 38m\n",
       "                         All PlayStyles   1.2K  4h 16m     4h  2h 46m  18h 04m"
      ]
     },
     "execution_count": 44,
     "metadata": {},
     "output_type": "execute_result"
    }
   ],
   "source": [
    "def generate_row(tag, soup):\n",
    "    return pd.DataFrame(data = [[get_game_title(soup), get_play_title(tag), get_poll_count(tag), \n",
    "                                 get_average_time(tag), get_median_time(tag), get_rushed_time(tag), \n",
    "                                 get_leisure_time(tag)]],\n",
    "                       columns = ['Title', 'Playstyle', 'Polled', 'Average', 'Median', 'Rushed', 'Leisure'])\n",
    "\n",
    "def cook_soup(id_no):\n",
    "    hltb = requests.get(str('https://howlongtobeat.com/game.php?id=' + id_no)).content\n",
    "    hltb_soup = BeautifulSoup(hltb, \"lxml\")\n",
    "    return hltb_soup\n",
    "\n",
    "def cook_soup(id_no):\n",
    "    return BeautifulSoup(requests.get(str('https://howlongtobeat.com/game.php?id=' + id_no)).content, \"lxml\")\n",
    "\n",
    "def create_game_entry(id_no):\n",
    "    soup = cook_soup(id_no)\n",
    "    main = generate_row(get_main_story_times(soup), soup)\n",
    "    main_extra = generate_row(get_main_story_extras_times(soup), soup)\n",
    "    completionist = generate_row(get_completionist_times(soup), soup)\n",
    "    all_playstyles = generate_row(get_all_playstyles_times(soup), soup)\n",
    "    return main.append(main_extra).append(completionist).append(all_playstyles).set_index(['Title', 'Playstyle'])\n",
    "\n",
    "\n",
    "half_life_episode_two = create_game_entry(\"4250\")\n",
    "half_life_episode_two"
   ]
  },
  {
   "cell_type": "code",
   "execution_count": 45,
   "metadata": {},
   "outputs": [],
   "source": [
    "# add game name as a further col? Then could be a single dataframe"
   ]
  },
  {
   "cell_type": "code",
   "execution_count": 46,
   "metadata": {},
   "outputs": [
    {
     "data": {
      "text/html": [
       "<div>\n",
       "<style scoped>\n",
       "    .dataframe tbody tr th:only-of-type {\n",
       "        vertical-align: middle;\n",
       "    }\n",
       "\n",
       "    .dataframe tbody tr th {\n",
       "        vertical-align: top;\n",
       "    }\n",
       "\n",
       "    .dataframe thead th {\n",
       "        text-align: right;\n",
       "    }\n",
       "</style>\n",
       "<table border=\"1\" class=\"dataframe\">\n",
       "  <thead>\n",
       "    <tr style=\"text-align: right;\">\n",
       "      <th></th>\n",
       "      <th></th>\n",
       "      <th>Polled</th>\n",
       "      <th>Average</th>\n",
       "      <th>Median</th>\n",
       "      <th>Rushed</th>\n",
       "      <th>Leisure</th>\n",
       "    </tr>\n",
       "    <tr>\n",
       "      <th>Title</th>\n",
       "      <th>Playstyle</th>\n",
       "      <th></th>\n",
       "      <th></th>\n",
       "      <th></th>\n",
       "      <th></th>\n",
       "      <th></th>\n",
       "    </tr>\n",
       "  </thead>\n",
       "  <tbody>\n",
       "    <tr>\n",
       "      <th rowspan=\"4\" valign=\"top\">Red Dead Redemption 2</th>\n",
       "      <th>Main Story</th>\n",
       "      <td>161</td>\n",
       "      <td>43h 34m</td>\n",
       "      <td>43h 57m</td>\n",
       "      <td>31h 06m</td>\n",
       "      <td>52h 23m</td>\n",
       "    </tr>\n",
       "    <tr>\n",
       "      <th>Main + Extras</th>\n",
       "      <td>323</td>\n",
       "      <td>74h 15m</td>\n",
       "      <td>70h</td>\n",
       "      <td>51h 02m</td>\n",
       "      <td>124h 03m</td>\n",
       "    </tr>\n",
       "    <tr>\n",
       "      <th>Completionists</th>\n",
       "      <td>36</td>\n",
       "      <td>139h 59m</td>\n",
       "      <td>141h 49m</td>\n",
       "      <td>106h 02m</td>\n",
       "      <td>170h 57m</td>\n",
       "    </tr>\n",
       "    <tr>\n",
       "      <th>All PlayStyles</th>\n",
       "      <td>520</td>\n",
       "      <td>69h 18m</td>\n",
       "      <td>64h</td>\n",
       "      <td>42h 33m</td>\n",
       "      <td>133h 49m</td>\n",
       "    </tr>\n",
       "  </tbody>\n",
       "</table>\n",
       "</div>"
      ],
      "text/plain": [
       "                                     Polled   Average    Median    Rushed  \\\n",
       "Title                 Playstyle                                             \n",
       "Red Dead Redemption 2 Main Story        161   43h 34m   43h 57m   31h 06m   \n",
       "                      Main + Extras     323   74h 15m       70h   51h 02m   \n",
       "                      Completionists     36  139h 59m  141h 49m  106h 02m   \n",
       "                      All PlayStyles    520   69h 18m       64h   42h 33m   \n",
       "\n",
       "                                       Leisure  \n",
       "Title                 Playstyle                 \n",
       "Red Dead Redemption 2 Main Story       52h 23m  \n",
       "                      Main + Extras   124h 03m  \n",
       "                      Completionists  170h 57m  \n",
       "                      All PlayStyles  133h 49m  "
      ]
     },
     "execution_count": 46,
     "metadata": {},
     "output_type": "execute_result"
    }
   ],
   "source": [
    "rdr2 = create_game_entry('27100')\n",
    "rdr2"
   ]
  },
  {
   "cell_type": "code",
   "execution_count": null,
   "metadata": {},
   "outputs": [],
   "source": []
  }
 ],
 "metadata": {
  "kernelspec": {
   "display_name": "Python 3",
   "language": "python",
   "name": "python3"
  },
  "language_info": {
   "codemirror_mode": {
    "name": "ipython",
    "version": 3
   },
   "file_extension": ".py",
   "mimetype": "text/x-python",
   "name": "python",
   "nbconvert_exporter": "python",
   "pygments_lexer": "ipython3",
   "version": "3.6.4"
  }
 },
 "nbformat": 4,
 "nbformat_minor": 2
}
