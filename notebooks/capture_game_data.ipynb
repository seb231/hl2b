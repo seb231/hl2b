{
 "cells": [
  {
   "cell_type": "code",
   "execution_count": 111,
   "metadata": {},
   "outputs": [],
   "source": [
    "import requests\n",
    "import re\n",
    "from bs4 import BeautifulSoup\n",
    "import numpy as np\n",
    "import pandas as pd"
   ]
  },
  {
   "cell_type": "code",
   "execution_count": 2,
   "metadata": {},
   "outputs": [
    {
     "data": {
      "text/plain": [
       "'Half-Life 2: Episode One'"
      ]
     },
     "execution_count": 2,
     "metadata": {},
     "output_type": "execute_result"
    }
   ],
   "source": [
    "hltb = requests.get('https://howlongtobeat.com/game.php?id=4250').content\n",
    "hltb_soup = BeautifulSoup(hltb, \"lxml\")\n",
    "capture_title = hltb_soup.find('div', attrs = {'class': 'profile_header shadow_text'})\n",
    "game_title = capture_title.get_text().strip('\\n').strip(' $')\n",
    "game_title"
   ]
  },
  {
   "cell_type": "code",
   "execution_count": 3,
   "metadata": {},
   "outputs": [],
   "source": [
    "## Need to generate numbers to find all titles, including 4 and 5 digits"
   ]
  },
  {
   "cell_type": "code",
   "execution_count": 57,
   "metadata": {},
   "outputs": [],
   "source": [
    "def text_from_tag(tag):\n",
    "    return tag.get_text().strip('\\n').strip(' $')"
   ]
  },
  {
   "cell_type": "code",
   "execution_count": 123,
   "metadata": {},
   "outputs": [
    {
     "name": "stdout",
     "output_type": "stream",
     "text": [
      "4h 30m\n",
      "4h\n",
      "3h 07m\n",
      "7h 45m\n",
      "218\n",
      "Main + Extras\n"
     ]
    }
   ],
   "source": [
    "def get_average_time(times):\n",
    "    return text_from_tag(times.findAll('td')[2])\n",
    "\n",
    "def get_median_time(times):\n",
    "    return text_from_tag(times.findAll('td')[3])\n",
    "\n",
    "def get_rushed_time(times):\n",
    "    return text_from_tag(times.findAll('td')[4])\n",
    "\n",
    "def get_leisure_time(times):\n",
    "    return text_from_tag(times.findAll('td')[5])\n",
    "\n",
    "def get_poll_count(times):\n",
    "    return text_from_tag(times.findAll('td')[1])\n",
    "\n",
    "def get_play_title(times):\n",
    "    return text_from_tag(times.findAll('td')[0])\n",
    "\n",
    "\n",
    "print(get_average_time(main_extra_times))\n",
    "print(get_median_time(main_extra_times))\n",
    "print(get_rushed_time(main_extra_times))\n",
    "print(get_leisure_time(main_extra_times))\n",
    "print(get_poll_count(main_extra_times))\n",
    "print(get_play_title(main_extra_times))"
   ]
  },
  {
   "cell_type": "code",
   "execution_count": 120,
   "metadata": {},
   "outputs": [
    {
     "data": {
      "text/plain": [
       "<tr>\n",
       "<td>Main Story</td>\n",
       "<td class=\"center time_100_text\">787 </td> <td>3h 55m </td>\n",
       "<td>4h </td>\n",
       "<td>2h 40m </td>\n",
       "<td>6h 58m </td>\n",
       "</tr>"
      ]
     },
     "execution_count": 120,
     "metadata": {},
     "output_type": "execute_result"
    }
   ],
   "source": [
    "def get_main_story_times(soup):\n",
    "    return soup.findAll('tr')[1]\n",
    "\n",
    "def get_main_story_extras_times(soup):\n",
    "    return soup.findAll('tr')[2]\n",
    "\n",
    "def get_completionist_times(soup):\n",
    "    return soup.findAll('tr')[3]\n",
    "\n",
    "def get_all_playstyles_times(soup):\n",
    "    return soup.findAll('tr')[4]\n",
    "\n",
    "get_main_story_times(hltb_soup)"
   ]
  },
  {
   "cell_type": "code",
   "execution_count": 150,
   "metadata": {},
   "outputs": [
    {
     "data": {
      "text/html": [
       "<div>\n",
       "<style scoped>\n",
       "    .dataframe tbody tr th:only-of-type {\n",
       "        vertical-align: middle;\n",
       "    }\n",
       "\n",
       "    .dataframe tbody tr th {\n",
       "        vertical-align: top;\n",
       "    }\n",
       "\n",
       "    .dataframe thead th {\n",
       "        text-align: right;\n",
       "    }\n",
       "</style>\n",
       "<table border=\"1\" class=\"dataframe\">\n",
       "  <thead>\n",
       "    <tr style=\"text-align: right;\">\n",
       "      <th></th>\n",
       "      <th>Playstyle</th>\n",
       "      <th>Polled</th>\n",
       "      <th>Average</th>\n",
       "      <th>Median</th>\n",
       "      <th>Rushed</th>\n",
       "      <th>Leisure</th>\n",
       "    </tr>\n",
       "  </thead>\n",
       "  <tbody>\n",
       "    <tr>\n",
       "      <th>0</th>\n",
       "      <td>Main Story</td>\n",
       "      <td>787</td>\n",
       "      <td>3h 55m</td>\n",
       "      <td>4h</td>\n",
       "      <td>2h 40m</td>\n",
       "      <td>6h 58m</td>\n",
       "    </tr>\n",
       "    <tr>\n",
       "      <th>0</th>\n",
       "      <td>Main + Extras</td>\n",
       "      <td>218</td>\n",
       "      <td>4h 30m</td>\n",
       "      <td>4h</td>\n",
       "      <td>3h 07m</td>\n",
       "      <td>7h 45m</td>\n",
       "    </tr>\n",
       "    <tr>\n",
       "      <th>0</th>\n",
       "      <td>Completionists</td>\n",
       "      <td>184</td>\n",
       "      <td>5h 33m</td>\n",
       "      <td>5h</td>\n",
       "      <td>3h 23m</td>\n",
       "      <td>18h 38m</td>\n",
       "    </tr>\n",
       "    <tr>\n",
       "      <th>0</th>\n",
       "      <td>All PlayStyles</td>\n",
       "      <td>1.2K</td>\n",
       "      <td>4h 16m</td>\n",
       "      <td>4h</td>\n",
       "      <td>2h 46m</td>\n",
       "      <td>18h 04m</td>\n",
       "    </tr>\n",
       "  </tbody>\n",
       "</table>\n",
       "</div>"
      ],
      "text/plain": [
       "        Playstyle Polled Average Median  Rushed  Leisure\n",
       "0      Main Story    787  3h 55m     4h  2h 40m   6h 58m\n",
       "0   Main + Extras    218  4h 30m     4h  3h 07m   7h 45m\n",
       "0  Completionists    184  5h 33m     5h  3h 23m  18h 38m\n",
       "0  All PlayStyles   1.2K  4h 16m     4h  2h 46m  18h 04m"
      ]
     },
     "execution_count": 150,
     "metadata": {},
     "output_type": "execute_result"
    }
   ],
   "source": [
    "def generate_row(tag):\n",
    "    return pd.DataFrame(data = [[get_play_title(tag), get_poll_count(tag), get_average_time(tag),\n",
    "                                 get_median_time(tag), get_rushed_time(tag), get_leisure_time(tag)]],\n",
    "                       columns = ['Playstyle', 'Polled', 'Average', 'Median', 'Rushed', 'Leisure'])\n",
    "\n",
    "def cook_soup(id_no):\n",
    "    hltb = requests.get(str('https://howlongtobeat.com/game.php?id=' + id_no)).content\n",
    "    hltb_soup = BeautifulSoup(hltb, \"lxml\")\n",
    "    return hltb_soup\n",
    "\n",
    "def cook_soup(id_no):\n",
    "    return BeautifulSoup(requests.get(str('https://howlongtobeat.com/game.php?id=' + id_no)).content, \"lxml\")\n",
    "\n",
    "def create_game_entry(id_no):\n",
    "    soup = cook_soup(id_no)\n",
    "    main = generate_row(get_main_story_times(soup))\n",
    "    main_extra = generate_row(get_main_story_extras_times(soup))\n",
    "    completionist = generate_row(get_completionist_times(soup))\n",
    "    all_playstyles = generate_row(get_all_playstyles_times(soup))\n",
    "    return main.append(main_extra).append(completionist).append(all_playstyles)\n",
    "\n",
    "\n",
    "half_life_episode_two = create_game_entry(\"4250\")\n",
    "half_life_episode_two"
   ]
  },
  {
   "cell_type": "code",
   "execution_count": 101,
   "metadata": {},
   "outputs": [],
   "source": [
    "# add game name as a further col? Then could be a single dataframe"
   ]
  },
  {
   "cell_type": "code",
   "execution_count": 151,
   "metadata": {},
   "outputs": [
    {
     "data": {
      "text/html": [
       "<div>\n",
       "<style scoped>\n",
       "    .dataframe tbody tr th:only-of-type {\n",
       "        vertical-align: middle;\n",
       "    }\n",
       "\n",
       "    .dataframe tbody tr th {\n",
       "        vertical-align: top;\n",
       "    }\n",
       "\n",
       "    .dataframe thead th {\n",
       "        text-align: right;\n",
       "    }\n",
       "</style>\n",
       "<table border=\"1\" class=\"dataframe\">\n",
       "  <thead>\n",
       "    <tr style=\"text-align: right;\">\n",
       "      <th></th>\n",
       "      <th>Playstyle</th>\n",
       "      <th>Polled</th>\n",
       "      <th>Average</th>\n",
       "      <th>Median</th>\n",
       "      <th>Rushed</th>\n",
       "      <th>Leisure</th>\n",
       "    </tr>\n",
       "  </thead>\n",
       "  <tbody>\n",
       "    <tr>\n",
       "      <th>0</th>\n",
       "      <td>Main Story</td>\n",
       "      <td>146</td>\n",
       "      <td>43h 12m</td>\n",
       "      <td>43h 45m</td>\n",
       "      <td>30h 57m</td>\n",
       "      <td>52h 14m</td>\n",
       "    </tr>\n",
       "    <tr>\n",
       "      <th>0</th>\n",
       "      <td>Main + Extras</td>\n",
       "      <td>289</td>\n",
       "      <td>72h 56m</td>\n",
       "      <td>70h</td>\n",
       "      <td>50h 43m</td>\n",
       "      <td>110h 44m</td>\n",
       "    </tr>\n",
       "    <tr>\n",
       "      <th>0</th>\n",
       "      <td>Completionists</td>\n",
       "      <td>34</td>\n",
       "      <td>137h 51m</td>\n",
       "      <td>135h 21m</td>\n",
       "      <td>103h 53m</td>\n",
       "      <td>168h 18m</td>\n",
       "    </tr>\n",
       "    <tr>\n",
       "      <th>0</th>\n",
       "      <td>All PlayStyles</td>\n",
       "      <td>469</td>\n",
       "      <td>68h 23m</td>\n",
       "      <td>62h</td>\n",
       "      <td>41h 49m</td>\n",
       "      <td>132h 35m</td>\n",
       "    </tr>\n",
       "  </tbody>\n",
       "</table>\n",
       "</div>"
      ],
      "text/plain": [
       "        Playstyle Polled   Average    Median    Rushed   Leisure\n",
       "0      Main Story    146   43h 12m   43h 45m   30h 57m   52h 14m\n",
       "0   Main + Extras    289   72h 56m       70h   50h 43m  110h 44m\n",
       "0  Completionists     34  137h 51m  135h 21m  103h 53m  168h 18m\n",
       "0  All PlayStyles    469   68h 23m       62h   41h 49m  132h 35m"
      ]
     },
     "execution_count": 151,
     "metadata": {},
     "output_type": "execute_result"
    }
   ],
   "source": [
    "rdr2 = create_game_entry('27100')\n",
    "rdr2"
   ]
  },
  {
   "cell_type": "code",
   "execution_count": null,
   "metadata": {},
   "outputs": [],
   "source": []
  }
 ],
 "metadata": {
  "kernelspec": {
   "display_name": "Python 3",
   "language": "python",
   "name": "python3"
  },
  "language_info": {
   "codemirror_mode": {
    "name": "ipython",
    "version": 3
   },
   "file_extension": ".py",
   "mimetype": "text/x-python",
   "name": "python",
   "nbconvert_exporter": "python",
   "pygments_lexer": "ipython3",
   "version": "3.6.4"
  }
 },
 "nbformat": 4,
 "nbformat_minor": 2
}
