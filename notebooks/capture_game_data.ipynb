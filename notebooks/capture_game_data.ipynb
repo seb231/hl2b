{
 "cells": [
  {
   "cell_type": "code",
   "execution_count": 1,
   "metadata": {},
   "outputs": [],
   "source": [
    "import requests\n",
    "import re\n",
    "from bs4 import BeautifulSoup"
   ]
  },
  {
   "cell_type": "code",
   "execution_count": 12,
   "metadata": {},
   "outputs": [
    {
     "data": {
      "text/plain": [
       "'Half-Life 2: Episode One'"
      ]
     },
     "execution_count": 12,
     "metadata": {},
     "output_type": "execute_result"
    }
   ],
   "source": [
    "hltb = requests.get('https://howlongtobeat.com/game.php?id=4250').content\n",
    "hltb_soup = BeautifulSoup(hltb, \"lxml\")\n",
    "capture_title = hltb_soup.find('div', attrs = {'class': 'profile_header shadow_text'})\n",
    "game_title = capture_title.get_text().strip('\\n').strip(' $')\n",
    "game_title"
   ]
  },
  {
   "cell_type": "code",
   "execution_count": 8,
   "metadata": {},
   "outputs": [],
   "source": [
    "## Need to generate numbers to find all titles, including 4 and 5 digits"
   ]
  },
  {
   "cell_type": "code",
   "execution_count": 18,
   "metadata": {},
   "outputs": [
    {
     "data": {
      "text/plain": [
       "[<tr>\n",
       " <td>Single-Player</td>\n",
       " <td class=\"center\" style=\"width: 50px;\">Polled</td> <td>Average</td>\n",
       " <td>Median</td>\n",
       " <td>Rushed</td>\n",
       " <td>Leisure</td>\n",
       " </tr>, <tr>\n",
       " <td>Main Story</td>\n",
       " <td class=\"center time_100_text\">723 </td> <td>3h 57m </td>\n",
       " <td>4h </td>\n",
       " <td>2h 41m </td>\n",
       " <td>6h 59m </td>\n",
       " </tr>, <tr>\n",
       " <td>Main + Extras</td>\n",
       " <td class=\"center time_100_text\">198 </td> <td>4h 27m </td>\n",
       " <td>4h </td>\n",
       " <td>3h 06m </td>\n",
       " <td>7h 44m </td>\n",
       " </tr>, <tr>\n",
       " <td>Completionists</td>\n",
       " <td class=\"center time_100_text\">172 </td> <td>5h 34m </td>\n",
       " <td>5h </td>\n",
       " <td>3h 48m </td>\n",
       " <td>18h 38m </td>\n",
       " </tr>, <tr>\n",
       " <td>All PlayStyles</td>\n",
       " <td class=\"center time_100_text\">1.1K </td> <td>4h 17m </td>\n",
       " <td>4h </td>\n",
       " <td>2h 46m </td>\n",
       " <td>18h 04m </td>\n",
       " </tr>, <tr>\n",
       " <td>Speedrun</td>\n",
       " <td class=\"center\" style=\"width: 50px;\">Polled</td> <td>Average</td>\n",
       " <td>Median</td>\n",
       " <td>Fastest</td>\n",
       " <td>Slowest</td>\n",
       " </tr>, <tr>\n",
       " <td>Any%</td>\n",
       " <td class=\"center time_50_text\">5 </td> <td>2h 05m 16s</td>\n",
       " <td>2h 15m </td>\n",
       " <td>1h 13m </td>\n",
       " <td>2h 30m </td>\n",
       " </tr>, <tr>\n",
       " <td>Platform</td>\n",
       " <td class=\"center\" style=\"width: 50px;\">Polled</td>\n",
       " <td>Main</td>\n",
       " <td>Main +</td>\n",
       " <td>100%</td>\n",
       " <td>Fastest</td>\n",
       " <td>Longest</td>\n",
       " </tr>, <tr class=\"spreadsheet\">\n",
       " <td>Unlisted </td>\n",
       " <td class=\"center time_100_text\">53</td>\n",
       " <td>3h 57m </td>\n",
       " <td>4h 38m </td>\n",
       " <td>4h </td>\n",
       " <td>2h 30m </td>\n",
       " <td>10h </td>\n",
       " </tr>, <tr class=\"spreadsheet\">\n",
       " <td>Linux </td>\n",
       " <td class=\"center time_60_text\">11</td>\n",
       " <td>4h </td>\n",
       " <td>5h 15m </td>\n",
       " <td>4h 41m </td>\n",
       " <td>2h 54m </td>\n",
       " <td>7h </td>\n",
       " </tr>, <tr class=\"spreadsheet\">\n",
       " <td>Mac </td>\n",
       " <td class=\"center time_60_text\">11</td>\n",
       " <td>3h 54m </td>\n",
       " <td>5h 03m </td>\n",
       " <td>7h 15m </td>\n",
       " <td>2h 45m </td>\n",
       " <td>9h 30m </td>\n",
       " </tr>, <tr class=\"spreadsheet\">\n",
       " <td>PC </td>\n",
       " <td class=\"center time_100_text\">949</td>\n",
       " <td>3h 57m </td>\n",
       " <td>4h 27m </td>\n",
       " <td>5h 37m </td>\n",
       " <td>1h 24m </td>\n",
       " <td>32h </td>\n",
       " </tr>, <tr class=\"spreadsheet\">\n",
       " <td>PlayStation 3 </td>\n",
       " <td class=\"center time_60_text\">12</td>\n",
       " <td>4h 19m </td>\n",
       " <td>5h 41m </td>\n",
       " <td>5h 35m </td>\n",
       " <td>3h 23m </td>\n",
       " <td>7h </td>\n",
       " </tr>, <tr class=\"spreadsheet\">\n",
       " <td>Xbox 360 </td>\n",
       " <td class=\"center time_100_text\">55</td>\n",
       " <td>3h 46m </td>\n",
       " <td>3h 31m </td>\n",
       " <td>4h 52m </td>\n",
       " <td>2h </td>\n",
       " <td>6h </td>\n",
       " </tr>]"
      ]
     },
     "execution_count": 18,
     "metadata": {},
     "output_type": "execute_result"
    }
   ],
   "source": [
    "hltb_soup.find_all('tr')"
   ]
  },
  {
   "cell_type": "code",
   "execution_count": null,
   "metadata": {},
   "outputs": [],
   "source": []
  }
 ],
 "metadata": {
  "kernelspec": {
   "display_name": "Python 3",
   "language": "python",
   "name": "python3"
  },
  "language_info": {
   "codemirror_mode": {
    "name": "ipython",
    "version": 3
   },
   "file_extension": ".py",
   "mimetype": "text/x-python",
   "name": "python",
   "nbconvert_exporter": "python",
   "pygments_lexer": "ipython3",
   "version": "3.6.4"
  }
 },
 "nbformat": 4,
 "nbformat_minor": 2
}
